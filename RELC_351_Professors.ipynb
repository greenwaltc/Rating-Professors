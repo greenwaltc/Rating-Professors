{
  "nbformat": 4,
  "nbformat_minor": 0,
  "metadata": {
    "colab": {
      "name": "RELC 351 Professors.ipynb",
      "provenance": []
    },
    "kernelspec": {
      "name": "python3",
      "display_name": "Python 3"
    }
  },
  "cells": [
    {
      "cell_type": "code",
      "metadata": {
        "id": "3w958TpAVOxY",
        "colab": {
          "base_uri": "https://localhost:8080/",
          "height": 75
        },
        "outputId": "a331d44a-3f57-43ff-ff9e-be267fef1882"
      },
      "source": [
        "import pandas as pd\n",
        "import numpy as np \n",
        "import seaborn as sns\n",
        "import matplotlib.pyplot as plt"
      ],
      "execution_count": null,
      "outputs": [
        {
          "output_type": "stream",
          "text": [
            "/usr/local/lib/python3.6/dist-packages/statsmodels/tools/_testing.py:19: FutureWarning: pandas.util.testing is deprecated. Use the functions in the public API at pandas.testing instead.\n",
            "  import pandas.util.testing as tm\n"
          ],
          "name": "stderr"
        }
      ]
    },
    {
      "cell_type": "code",
      "metadata": {
        "id": "9lZlhKs3VaCX"
      },
      "source": [
        "df = pd.read_excel(\"RELC 351 Professors.xlsx\", index_col=\"Professor\")"
      ],
      "execution_count": null,
      "outputs": []
    },
    {
      "cell_type": "code",
      "metadata": {
        "id": "r0eN3ryGVaes",
        "colab": {
          "base_uri": "https://localhost:8080/",
          "height": 206
        },
        "outputId": "6fad6f6b-e29c-4541-fdd0-e440c988ba32"
      },
      "source": [
        "display(df)\n",
        "indexes_professors = df.index #for later use"
      ],
      "execution_count": null,
      "outputs": [
        {
          "output_type": "display_data",
          "data": {
            "text/html": [
              "<div>\n",
              "<style scoped>\n",
              "    .dataframe tbody tr th:only-of-type {\n",
              "        vertical-align: middle;\n",
              "    }\n",
              "\n",
              "    .dataframe tbody tr th {\n",
              "        vertical-align: top;\n",
              "    }\n",
              "\n",
              "    .dataframe thead th {\n",
              "        text-align: right;\n",
              "    }\n",
              "</style>\n",
              "<table border=\"1\" class=\"dataframe\">\n",
              "  <thead>\n",
              "    <tr style=\"text-align: right;\">\n",
              "      <th></th>\n",
              "      <th>Overall</th>\n",
              "      <th>Difficulty</th>\n",
              "      <th>Retake</th>\n",
              "    </tr>\n",
              "    <tr>\n",
              "      <th>Professor</th>\n",
              "      <th></th>\n",
              "      <th></th>\n",
              "      <th></th>\n",
              "    </tr>\n",
              "  </thead>\n",
              "  <tbody>\n",
              "    <tr>\n",
              "      <th>Reed, Andrew</th>\n",
              "      <td>3.9</td>\n",
              "      <td>3.2</td>\n",
              "      <td>0.76</td>\n",
              "    </tr>\n",
              "    <tr>\n",
              "      <th>Wilkinson, Gregory</th>\n",
              "      <td>3.5</td>\n",
              "      <td>2.6</td>\n",
              "      <td>0.70</td>\n",
              "    </tr>\n",
              "    <tr>\n",
              "      <th>Gaskill, Alonzo</th>\n",
              "      <td>4.4</td>\n",
              "      <td>2.9</td>\n",
              "      <td>0.88</td>\n",
              "    </tr>\n",
              "    <tr>\n",
              "      <th>MacKay, Michael</th>\n",
              "      <td>3.9</td>\n",
              "      <td>2.7</td>\n",
              "      <td>0.68</td>\n",
              "    </tr>\n",
              "  </tbody>\n",
              "</table>\n",
              "</div>"
            ],
            "text/plain": [
              "                    Overall  Difficulty  Retake\n",
              "Professor                                      \n",
              "Reed, Andrew            3.9         3.2    0.76\n",
              "Wilkinson, Gregory      3.5         2.6    0.70\n",
              "Gaskill, Alonzo         4.4         2.9    0.88\n",
              "MacKay, Michael         3.9         2.7    0.68"
            ]
          },
          "metadata": {
            "tags": []
          }
        }
      ]
    },
    {
      "cell_type": "code",
      "metadata": {
        "id": "5cYaimDRVctJ",
        "colab": {
          "base_uri": "https://localhost:8080/",
          "height": 206
        },
        "outputId": "8ab472a1-576e-498a-bfdb-36021eaa7da4"
      },
      "source": [
        "from sklearn.preprocessing import MinMaxScaler\n",
        "scaler = MinMaxScaler() \n",
        "data_scaled = scaler.fit_transform(df)\n",
        "df_norm = pd.DataFrame(data=data_scaled, columns=['Overall', 'Difficulty', 'Retake Rate'], index = indexes_professors)\n",
        "display(df_norm)"
      ],
      "execution_count": null,
      "outputs": [
        {
          "output_type": "display_data",
          "data": {
            "text/html": [
              "<div>\n",
              "<style scoped>\n",
              "    .dataframe tbody tr th:only-of-type {\n",
              "        vertical-align: middle;\n",
              "    }\n",
              "\n",
              "    .dataframe tbody tr th {\n",
              "        vertical-align: top;\n",
              "    }\n",
              "\n",
              "    .dataframe thead th {\n",
              "        text-align: right;\n",
              "    }\n",
              "</style>\n",
              "<table border=\"1\" class=\"dataframe\">\n",
              "  <thead>\n",
              "    <tr style=\"text-align: right;\">\n",
              "      <th></th>\n",
              "      <th>Overall</th>\n",
              "      <th>Difficulty</th>\n",
              "      <th>Retake Rate</th>\n",
              "    </tr>\n",
              "    <tr>\n",
              "      <th>Professor</th>\n",
              "      <th></th>\n",
              "      <th></th>\n",
              "      <th></th>\n",
              "    </tr>\n",
              "  </thead>\n",
              "  <tbody>\n",
              "    <tr>\n",
              "      <th>Reed, Andrew</th>\n",
              "      <td>0.444444</td>\n",
              "      <td>1.000000</td>\n",
              "      <td>0.4</td>\n",
              "    </tr>\n",
              "    <tr>\n",
              "      <th>Wilkinson, Gregory</th>\n",
              "      <td>0.000000</td>\n",
              "      <td>0.000000</td>\n",
              "      <td>0.1</td>\n",
              "    </tr>\n",
              "    <tr>\n",
              "      <th>Gaskill, Alonzo</th>\n",
              "      <td>1.000000</td>\n",
              "      <td>0.500000</td>\n",
              "      <td>1.0</td>\n",
              "    </tr>\n",
              "    <tr>\n",
              "      <th>MacKay, Michael</th>\n",
              "      <td>0.444444</td>\n",
              "      <td>0.166667</td>\n",
              "      <td>0.0</td>\n",
              "    </tr>\n",
              "  </tbody>\n",
              "</table>\n",
              "</div>"
            ],
            "text/plain": [
              "                     Overall  Difficulty  Retake Rate\n",
              "Professor                                            \n",
              "Reed, Andrew        0.444444    1.000000          0.4\n",
              "Wilkinson, Gregory  0.000000    0.000000          0.1\n",
              "Gaskill, Alonzo     1.000000    0.500000          1.0\n",
              "MacKay, Michael     0.444444    0.166667          0.0"
            ]
          },
          "metadata": {
            "tags": []
          }
        }
      ]
    },
    {
      "cell_type": "code",
      "metadata": {
        "id": "bsEx9u_0Vfsz",
        "colab": {
          "base_uri": "https://localhost:8080/",
          "height": 206
        },
        "outputId": "8aee6363-588b-489c-c143-539c52f461fe"
      },
      "source": [
        "#invert Difficulty so it doesn't give inaccurate weight in final average\n",
        "df_norm['Difficulty'] = 1.0 - df_norm['Difficulty']\n",
        "#display(df_norm)\n",
        "\n",
        "for row in df_norm.index:\n",
        "  for col in df_norm.columns:\n",
        "    if abs(df_norm.loc[row, col]) < 0.0000000001:\n",
        "      df_norm.loc[row, col] = 0\n",
        "\n",
        "display(df_norm)"
      ],
      "execution_count": null,
      "outputs": [
        {
          "output_type": "display_data",
          "data": {
            "text/html": [
              "<div>\n",
              "<style scoped>\n",
              "    .dataframe tbody tr th:only-of-type {\n",
              "        vertical-align: middle;\n",
              "    }\n",
              "\n",
              "    .dataframe tbody tr th {\n",
              "        vertical-align: top;\n",
              "    }\n",
              "\n",
              "    .dataframe thead th {\n",
              "        text-align: right;\n",
              "    }\n",
              "</style>\n",
              "<table border=\"1\" class=\"dataframe\">\n",
              "  <thead>\n",
              "    <tr style=\"text-align: right;\">\n",
              "      <th></th>\n",
              "      <th>Overall</th>\n",
              "      <th>Difficulty</th>\n",
              "      <th>Retake Rate</th>\n",
              "    </tr>\n",
              "    <tr>\n",
              "      <th>Professor</th>\n",
              "      <th></th>\n",
              "      <th></th>\n",
              "      <th></th>\n",
              "    </tr>\n",
              "  </thead>\n",
              "  <tbody>\n",
              "    <tr>\n",
              "      <th>Reed, Andrew</th>\n",
              "      <td>0.444444</td>\n",
              "      <td>0.000000</td>\n",
              "      <td>0.4</td>\n",
              "    </tr>\n",
              "    <tr>\n",
              "      <th>Wilkinson, Gregory</th>\n",
              "      <td>0.000000</td>\n",
              "      <td>1.000000</td>\n",
              "      <td>0.1</td>\n",
              "    </tr>\n",
              "    <tr>\n",
              "      <th>Gaskill, Alonzo</th>\n",
              "      <td>1.000000</td>\n",
              "      <td>0.500000</td>\n",
              "      <td>1.0</td>\n",
              "    </tr>\n",
              "    <tr>\n",
              "      <th>MacKay, Michael</th>\n",
              "      <td>0.444444</td>\n",
              "      <td>0.833333</td>\n",
              "      <td>0.0</td>\n",
              "    </tr>\n",
              "  </tbody>\n",
              "</table>\n",
              "</div>"
            ],
            "text/plain": [
              "                     Overall  Difficulty  Retake Rate\n",
              "Professor                                            \n",
              "Reed, Andrew        0.444444    0.000000          0.4\n",
              "Wilkinson, Gregory  0.000000    1.000000          0.1\n",
              "Gaskill, Alonzo     1.000000    0.500000          1.0\n",
              "MacKay, Michael     0.444444    0.833333          0.0"
            ]
          },
          "metadata": {
            "tags": []
          }
        }
      ]
    },
    {
      "cell_type": "code",
      "metadata": {
        "id": "YvYpSi2ZVpIo",
        "colab": {
          "base_uri": "https://localhost:8080/",
          "height": 206
        },
        "outputId": "73d5f114-0bed-497c-d1c2-55691dc003e4"
      },
      "source": [
        "#Scale the categories for a final weighted average. Scales are broken down as follows (percentage):\n",
        "# Overall - 30%\n",
        "# Difficulty - 50%\n",
        "# Retake Rate - 20%\n",
        "\n",
        "df_norm['Overall'] *= 0.6\n",
        "df_norm['Difficulty'] *= 0.7\n",
        "df_norm['Retake Rate'] *= 0.6\n",
        "\n",
        "display(df_norm)"
      ],
      "execution_count": null,
      "outputs": [
        {
          "output_type": "display_data",
          "data": {
            "text/html": [
              "<div>\n",
              "<style scoped>\n",
              "    .dataframe tbody tr th:only-of-type {\n",
              "        vertical-align: middle;\n",
              "    }\n",
              "\n",
              "    .dataframe tbody tr th {\n",
              "        vertical-align: top;\n",
              "    }\n",
              "\n",
              "    .dataframe thead th {\n",
              "        text-align: right;\n",
              "    }\n",
              "</style>\n",
              "<table border=\"1\" class=\"dataframe\">\n",
              "  <thead>\n",
              "    <tr style=\"text-align: right;\">\n",
              "      <th></th>\n",
              "      <th>Overall</th>\n",
              "      <th>Difficulty</th>\n",
              "      <th>Retake Rate</th>\n",
              "    </tr>\n",
              "    <tr>\n",
              "      <th>Professor</th>\n",
              "      <th></th>\n",
              "      <th></th>\n",
              "      <th></th>\n",
              "    </tr>\n",
              "  </thead>\n",
              "  <tbody>\n",
              "    <tr>\n",
              "      <th>Reed, Andrew</th>\n",
              "      <td>0.266667</td>\n",
              "      <td>0.000000</td>\n",
              "      <td>0.24</td>\n",
              "    </tr>\n",
              "    <tr>\n",
              "      <th>Wilkinson, Gregory</th>\n",
              "      <td>0.000000</td>\n",
              "      <td>0.700000</td>\n",
              "      <td>0.06</td>\n",
              "    </tr>\n",
              "    <tr>\n",
              "      <th>Gaskill, Alonzo</th>\n",
              "      <td>0.600000</td>\n",
              "      <td>0.350000</td>\n",
              "      <td>0.60</td>\n",
              "    </tr>\n",
              "    <tr>\n",
              "      <th>MacKay, Michael</th>\n",
              "      <td>0.266667</td>\n",
              "      <td>0.583333</td>\n",
              "      <td>0.00</td>\n",
              "    </tr>\n",
              "  </tbody>\n",
              "</table>\n",
              "</div>"
            ],
            "text/plain": [
              "                     Overall  Difficulty  Retake Rate\n",
              "Professor                                            \n",
              "Reed, Andrew        0.266667    0.000000         0.24\n",
              "Wilkinson, Gregory  0.000000    0.700000         0.06\n",
              "Gaskill, Alonzo     0.600000    0.350000         0.60\n",
              "MacKay, Michael     0.266667    0.583333         0.00"
            ]
          },
          "metadata": {
            "tags": []
          }
        }
      ]
    },
    {
      "cell_type": "code",
      "metadata": {
        "id": "ShConLq8VsSR",
        "colab": {
          "base_uri": "https://localhost:8080/",
          "height": 206
        },
        "outputId": "480f2dd8-c41f-4391-85d2-9f5a3a2d9b16"
      },
      "source": [
        "#Computes the weighted average and sorts the dataframe by highest weighted average\n",
        "#to see the best professor.\n",
        "\n",
        "df_norm['Weighted Average'] = df_norm.mean(axis=1)\n",
        "df_norm.sort_values(by=['Weighted Average'], inplace=True, ascending=False)\n",
        "display(df_norm)"
      ],
      "execution_count": null,
      "outputs": [
        {
          "output_type": "display_data",
          "data": {
            "text/html": [
              "<div>\n",
              "<style scoped>\n",
              "    .dataframe tbody tr th:only-of-type {\n",
              "        vertical-align: middle;\n",
              "    }\n",
              "\n",
              "    .dataframe tbody tr th {\n",
              "        vertical-align: top;\n",
              "    }\n",
              "\n",
              "    .dataframe thead th {\n",
              "        text-align: right;\n",
              "    }\n",
              "</style>\n",
              "<table border=\"1\" class=\"dataframe\">\n",
              "  <thead>\n",
              "    <tr style=\"text-align: right;\">\n",
              "      <th></th>\n",
              "      <th>Overall</th>\n",
              "      <th>Difficulty</th>\n",
              "      <th>Retake Rate</th>\n",
              "      <th>Weighted Average</th>\n",
              "    </tr>\n",
              "    <tr>\n",
              "      <th>Professor</th>\n",
              "      <th></th>\n",
              "      <th></th>\n",
              "      <th></th>\n",
              "      <th></th>\n",
              "    </tr>\n",
              "  </thead>\n",
              "  <tbody>\n",
              "    <tr>\n",
              "      <th>Gaskill, Alonzo</th>\n",
              "      <td>0.600000</td>\n",
              "      <td>0.350000</td>\n",
              "      <td>0.60</td>\n",
              "      <td>0.516667</td>\n",
              "    </tr>\n",
              "    <tr>\n",
              "      <th>MacKay, Michael</th>\n",
              "      <td>0.266667</td>\n",
              "      <td>0.583333</td>\n",
              "      <td>0.00</td>\n",
              "      <td>0.283333</td>\n",
              "    </tr>\n",
              "    <tr>\n",
              "      <th>Wilkinson, Gregory</th>\n",
              "      <td>0.000000</td>\n",
              "      <td>0.700000</td>\n",
              "      <td>0.06</td>\n",
              "      <td>0.253333</td>\n",
              "    </tr>\n",
              "    <tr>\n",
              "      <th>Reed, Andrew</th>\n",
              "      <td>0.266667</td>\n",
              "      <td>0.000000</td>\n",
              "      <td>0.24</td>\n",
              "      <td>0.168889</td>\n",
              "    </tr>\n",
              "  </tbody>\n",
              "</table>\n",
              "</div>"
            ],
            "text/plain": [
              "                     Overall  Difficulty  Retake Rate  Weighted Average\n",
              "Professor                                                              \n",
              "Gaskill, Alonzo     0.600000    0.350000         0.60          0.516667\n",
              "MacKay, Michael     0.266667    0.583333         0.00          0.283333\n",
              "Wilkinson, Gregory  0.000000    0.700000         0.06          0.253333\n",
              "Reed, Andrew        0.266667    0.000000         0.24          0.168889"
            ]
          },
          "metadata": {
            "tags": []
          }
        }
      ]
    },
    {
      "cell_type": "code",
      "metadata": {
        "id": "TH8FBZ9WWG3Q",
        "colab": {
          "base_uri": "https://localhost:8080/",
          "height": 364
        },
        "outputId": "6f6bee68-04cc-4c14-b324-7d035639d265"
      },
      "source": [
        "#visualize\n",
        "\n",
        "_ = df_norm.plot(kind='bar', y='Weighted Average')\n",
        "_ = plt.ylabel('Weighted Average')\n",
        "plt.show()"
      ],
      "execution_count": null,
      "outputs": [
        {
          "output_type": "display_data",
          "data": {
            "image/png": "[encoded data removed]",
            "text/plain": [
              "<Figure size 432x288 with 1 Axes>"
            ]
          },
          "metadata": {
            "tags": [],
            "needs_background": "light"
          }
        }
      ]
    }
  ]
}